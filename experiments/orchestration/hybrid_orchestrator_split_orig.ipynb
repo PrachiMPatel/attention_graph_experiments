{
 "cells": [
  {
   "cell_type": "code",
   "execution_count": 1,
   "metadata": {},
   "outputs": [],
   "source": [
    "from sys import path\n",
    "path.append(\"../..\")\n",
    "\n",
    "import warnings\n",
    "warnings.filterwarnings('ignore')"
   ]
  },
  {
   "cell_type": "code",
   "execution_count": 1,
   "metadata": {},
   "outputs": [],
   "source": [
    "from argparse import ArgumentParser\n",
    "from numpy import percentile\n",
    "\n",
    "from typing import Optional\n",
    "from torch import device, tensor, Tensor, where\n",
    "from torch.cuda import is_available as cuda_is_available\n",
    "from torch_geometric.utils import remove_isolated_nodes\n"
   ]
  },
  {
   "cell_type": "code",
   "execution_count": 3,
   "metadata": {},
   "outputs": [],
   "source": [
    "import json\n",
    "import pandas as pd\n",
    "from pathlib import Path\n",
    "import pickle as pkl\n",
    "\n",
    "DATA_DIR = \"/home/ec2-user/lbetthauser/data/orchestration/hybrid_orchestration/security/v0\"\n",
    "# with open(Path(DATA_DIR, \"attention_graphs.pkl\"), \"rb\") as f:\n",
    "#     graph_data = pkl.load(f)\n",
    "# with open(Path(DATA_DIR, \"label_mapping.json\"), \"rb\") as f:\n",
    "#     label_mapping = json.load(f)\n",
    "df = pd.read_csv(open(Path(DATA_DIR, \"security_intent.csv\"), \"rb\"))"
   ]
  },
  {
   "cell_type": "code",
   "execution_count": 4,
   "metadata": {},
   "outputs": [],
   "source": [
    "labels = df['reference_skill']\n",
    "label_mapping = {label:i for i,label in enumerate(labels.unique())}\n",
    "indexed_skills = df['reference_skill'].apply(lambda x: label_mapping[x])"
   ]
  },
  {
   "cell_type": "code",
   "execution_count": 5,
   "metadata": {},
   "outputs": [],
   "source": [
    "from collections import Counter, defaultdict\n",
    "# labels = Counter([graph.y for graph in graph_data if graph])\n",
    "labels = Counter(indexed_skills)\n",
    "smallest_number_of_examples = min([count for count in labels.values()])\n",
    "TRAIN_PERCENTAGE = 0.5\n",
    "MIN_NUM_EXAMPLES = 3\n",
    "MAX_NUM_EXAMPLES = 275\n",
    "training_counts = {label: min(max(int(labels[label]*TRAIN_PERCENTAGE),MIN_NUM_EXAMPLES),MAX_NUM_EXAMPLES) for label in labels}\n",
    "\n",
    "train_indices = []\n",
    "test_indices = []\n",
    "\n",
    "example_count = defaultdict(list)\n",
    "# for idx, graph in enumerate(graph_data):\n",
    "#     if graph:\n",
    "#         if len(example_count[graph.y]) < training_counts[graph.y]:\n",
    "#             train_indices.append(idx)\n",
    "#             example_count[graph.y].append(idx)\n",
    "#         else:\n",
    "#             test_indices.append(idx)\n",
    "\n",
    "for idx, (query, skill) in enumerate(zip(df['input'], indexed_skills)):\n",
    "    if query:\n",
    "        if len(example_count[skill]) < training_counts[skill]:\n",
    "            train_indices.append(idx)\n",
    "            example_count[skill].append(idx)\n",
    "        else:\n",
    "            test_indices.append(idx)\n",
    "\n",
    "# train_dataset = [graph for idx, graph in enumerate(graph_data) if idx in train_indices]\n",
    "# test_dataset = [graph for idx, graph in enumerate(graph_data) if idx in test_indices]\n",
    "# train_dataset = [graph for idx, graph in enumerate(graph_data) if idx in train_indices]\n",
    "# test_dataset = [graph for idx, graph in enumerate(graph_data) if idx in test_indices]\n",
    "        \n",
    "# train_label_counter = Counter([graph.y for graph in train_dataset])\n",
    "# test_label_counter = Counter([graph.y for graph in test_dataset])\n",
    "train_label_counter = Counter([indexed_skills[idx] for idx in train_indices])\n",
    "test_label_counter = Counter([indexed_skills[idx] for idx in test_indices])"
   ]
  },
  {
   "cell_type": "code",
   "execution_count": 6,
   "metadata": {},
   "outputs": [
    {
     "data": {
      "text/plain": [
       "Counter({0: 8, 1: 5, 2: 5, 4: 5, 3: 3, 5: 3, 6: 3, 7: 3, 8: 3})"
      ]
     },
     "execution_count": 6,
     "metadata": {},
     "output_type": "execute_result"
    }
   ],
   "source": [
    "train_label_counter"
   ]
  },
  {
   "cell_type": "code",
   "execution_count": 7,
   "metadata": {},
   "outputs": [
    {
     "data": {
      "text/plain": [
       "Counter({0: 8, 1: 5, 2: 5, 4: 5, 5: 3, 6: 3, 3: 2, 7: 2, 8: 2})"
      ]
     },
     "execution_count": 7,
     "metadata": {},
     "output_type": "execute_result"
    }
   ],
   "source": [
    "test_label_counter"
   ]
  },
  {
   "cell_type": "code",
   "execution_count": 8,
   "metadata": {},
   "outputs": [],
   "source": [
    "import json\n",
    "from pathlib import Path\n",
    "save_path = \"/home/ec2-user/lbetthauser/data/orchestration/hybrid_orchestration/security/v0\"\n",
    "\n",
    "with open(Path(save_path, \"skill_map.json\"), 'w') as f:\n",
    "    json.dump(label_mapping, f)\n",
    "# with open(Path(save_path, \"train_data.pkl\"), 'wb') as f:\n",
    "#     pkl.dump(train_dataset, f)\n",
    "# with open(Path(save_path, \"test_data.pkl\"), 'wb') as f:\n",
    "#     pkl.dump(test_dataset, f)\n",
    "df.iloc[train_indices].to_csv(Path(save_path, \"train_data.csv\"), index=False, header=True)\n",
    "df.iloc[test_indices].to_csv(Path(save_path, \"test_data.csv\"), index=False, header=True)"
   ]
  }
 ],
 "metadata": {
  "kernelspec": {
   "display_name": "Python 3 (ipykernel)",
   "language": "python",
   "name": "python3"
  },
  "language_info": {
   "codemirror_mode": {
    "name": "ipython",
    "version": 3
   },
   "file_extension": ".py",
   "mimetype": "text/x-python",
   "name": "python",
   "nbconvert_exporter": "python",
   "pygments_lexer": "ipython3",
   "version": "3.9.20"
  }
 },
 "nbformat": 4,
 "nbformat_minor": 4
}
